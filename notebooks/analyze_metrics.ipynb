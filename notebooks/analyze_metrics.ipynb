{
 "cells": [
  {
   "cell_type": "code",
   "execution_count": null,
   "metadata": {},
   "outputs": [],
   "source": [
    "# Visualize backtest metrics\n",
    "import pandas as pd\n",
    "import matplotlib.pyplot as plt\n",
    "\n",
    "# Load metrics\n",
    "metrics = pd.read_csv(\"metrics.csv\")\n",
    "print(metrics)\n",
    "\n",
    "# Load trades\n",
    "trades = pd.read_csv(\"trades.csv\")\n",
    "returns = trades['price'].diff() * trades['action'].map({'buy': 1, 'sell': -1, 'close': 0})\n",
    "cumulative_returns = returns.cumsum()\n",
    "\n",
    "# Plot cumulative returns\n",
    "plt.figure(figsize=(10, 6))\n",
    "plt.plot(cumulative_returns)\n",
    "plt.title(\"Cumulative Returns\")\n",
    "plt.xlabel(\"Trade Index\")\n",
    "plt.ylabel(\"Returns ($)\")\n",
    "plt.savefig(\"gold_checkpoints/cumulative_returns.png\")\n",
    "plt.show()\n",
    "\n",
    "# Plot sentiment vs. trade outcomes\n",
    "profitable = [r > 0 for r, t in zip(returns, trades['action']) if t != 'close']\n",
    "sentiments = trades[trades['action'] != 'close']['sentiment']\n",
    "plt.figure(figsize=(10, 6))\n",
    "plt.scatter(sentiments, profitable, alpha=0.5)\n",
    "plt.title(\"Sentiment vs. Trade Outcomes\")\n",
    "plt.xlabel(\"Sentiment Score\")\n",
    "plt.ylabel(\"Profitable (1=Yes, 0=No)\")\n",
    "plt.savefig(\"gold_checkpoints/sentiment_outcomes.png\")\n",
    "plt.show()\n",
    "\n",
    "# Plot cx7 vs. trade outcomes\n",
    "cx7_values = trades[trades['action'] != 'close']['cx7']\n",
    "plt.figure(figsize=(10, 6))\n",
    "plt.scatter(cx7_values, profitable, alpha=0.5)\n",
    "plt.title(\"cx7 vs. Trade Outcomes\")\n",
    "plt.xlabel(\"cx7\")\n",
    "plt.ylabel(\"Profitable (1=Yes, 0=No)\")\n",
    "plt.savefig(\"gold_checkpoints/cx7_outcomes.png\")\n",
    "plt.show()\n"
   ]
  }
 ],
 "metadata": {
  "kernelspec": {
   "display_name": "Python 3",
   "language": "python",
   "name": "python3"
  },
  "language_info": {
   "codemirror_mode": {
    "name": "ipython",
    "version": 3
   },
   "file_extension": ".py",
   "mimetype": "text/x-python",
   "name": "python",
   "nbconvert_exporter": "python",
   "pygments_lexer": "ipython3",
   "version": "3.8.0"
  }
 },
 "nbformat": 4,
 "nbformat_minor": 4
}
